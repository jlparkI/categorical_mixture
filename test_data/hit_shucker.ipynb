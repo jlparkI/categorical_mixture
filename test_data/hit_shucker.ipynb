{
 "cells": [
  {
   "cell_type": "code",
   "execution_count": 8,
   "id": "4fe6ee80",
   "metadata": {},
   "outputs": [],
   "source": [
    "import copy\n",
    "import random\n",
    "import Bio\n",
    "from Bio import SeqIO\n",
    "import numpy as np"
   ]
  },
  {
   "cell_type": "code",
   "execution_count": 2,
   "id": "d1c5ba31",
   "metadata": {},
   "outputs": [],
   "source": [
    "def lookahead(start_position, seq):\n",
    "    for k in range(start_position, len(seq)):\n",
    "        if seq[k].upper() == seq[k]:\n",
    "            break\n",
    "    return k - start_position"
   ]
  },
  {
   "cell_type": "code",
   "execution_count": 3,
   "id": "ff85f37d",
   "metadata": {},
   "outputs": [],
   "source": [
    "with open(\"uniref90_hits.a3m\", \"r\") as f:\n",
    "    seqs = [str(s.seq) for s in SeqIO.parse(f, \"fasta\")]"
   ]
  },
  {
   "cell_type": "code",
   "execution_count": 4,
   "id": "2fb4d924",
   "metadata": {},
   "outputs": [],
   "source": [
    "insert_positions = {}\n",
    "for s in seqs:\n",
    "    counter = 0\n",
    "    i = 0\n",
    "    if \"X\" in s or \"B\" in s:\n",
    "        continue\n",
    "    while i < len(s):\n",
    "        i += 1\n",
    "        if i >= len(s):\n",
    "            break\n",
    "        letter = s[i]\n",
    "        if letter.upper() != letter:\n",
    "            num_inserts = lookahead(i, s)\n",
    "            if counter in insert_positions:\n",
    "                if num_inserts > insert_positions[counter]:\n",
    "                    insert_positions[counter] = num_inserts\n",
    "            else:\n",
    "                insert_positions[counter] = num_inserts\n",
    "            i += num_inserts\n",
    "        counter += 1"
   ]
  },
  {
   "cell_type": "code",
   "execution_count": 5,
   "id": "87c4d513",
   "metadata": {},
   "outputs": [],
   "source": [
    "clean_seqs = []\n",
    "for s in seqs:\n",
    "    clean_seq = [s[0]]\n",
    "    i, counter = 0, 0\n",
    "    if \"X\" in s or \"B\" in s:\n",
    "        continue\n",
    "    while i < len(s):\n",
    "        i += 1\n",
    "        if i >= len(s):\n",
    "            break\n",
    "        letter = s[i]\n",
    "        if letter.upper() != letter:\n",
    "            num_inserts = lookahead(i, s)\n",
    "            num_blanks = insert_positions[counter] - num_inserts\n",
    "            clean_seq.append(s[i:i+num_inserts].upper())\n",
    "            clean_seq.append(\"\".join([\"-\" for j in range(num_blanks)]))\n",
    "            i += num_inserts\n",
    "        elif counter in insert_positions:\n",
    "            clean_seq.append(\"\".join([\"-\" for j in range(insert_positions[counter])]))\n",
    "        clean_seq.append(s[i])\n",
    "        counter += 1\n",
    "    clean_seqs.append(\"\".join(clean_seq))"
   ]
  },
  {
   "cell_type": "code",
   "execution_count": null,
   "id": "c581c0c0",
   "metadata": {},
   "outputs": [],
   "source": []
  },
  {
   "cell_type": "code",
   "execution_count": null,
   "id": "20b8d799",
   "metadata": {},
   "outputs": [],
   "source": []
  },
  {
   "cell_type": "code",
   "execution_count": 7,
   "id": "7f3be6f3",
   "metadata": {},
   "outputs": [],
   "source": [
    "with open(\"converted_seqs.txt\", 'w+') as f:\n",
    "    for s in clean_seqs:\n",
    "        _ = f.write(s)\n",
    "        _ = f.write(\"\\n\")"
   ]
  },
  {
   "cell_type": "code",
   "execution_count": null,
   "id": "5b85d915",
   "metadata": {},
   "outputs": [],
   "source": []
  }
 ],
 "metadata": {
  "kernelspec": {
   "display_name": "Python 3 (ipykernel)",
   "language": "python",
   "name": "python3"
  },
  "language_info": {
   "codemirror_mode": {
    "name": "ipython",
    "version": 3
   },
   "file_extension": ".py",
   "mimetype": "text/x-python",
   "name": "python",
   "nbconvert_exporter": "python",
   "pygments_lexer": "ipython3",
   "version": "3.9.10"
  }
 },
 "nbformat": 4,
 "nbformat_minor": 5
}
